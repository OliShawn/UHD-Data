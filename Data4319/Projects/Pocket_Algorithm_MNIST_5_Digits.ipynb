{
 "cells": [
  {
   "cell_type": "markdown",
   "metadata": {},
   "source": [
    "# Pocket Algorithm: with 5 digits from the MNIST dataset."
   ]
  },
  {
   "cell_type": "markdown",
   "metadata": {},
   "source": [
    "### The pocket algorithm can be described as a smarter perceptron. It only updates the model if we are improving (reducing our error)."
   ]
  },
  {
   "cell_type": "markdown",
   "metadata": {},
   "source": [
    "![title](Pocket_Algorithm.jpg)"
   ]
  },
  {
   "cell_type": "markdown",
   "metadata": {},
   "source": [
    "## This project incorporates a lot of what we have learned so far. We are running our perceptron algorithm on the MNIST digit data set."
   ]
  },
  {
   "cell_type": "markdown",
   "metadata": {},
   "source": [
    "![title](MNIST.png)"
   ]
  },
  {
   "cell_type": "markdown",
   "metadata": {},
   "source": [
    "## These are the first 100 images of the MNIST dataset. Here we can see the handwritten digit and its corresponding label (superscript)."
   ]
  },
  {
   "cell_type": "code",
   "execution_count": 1,
   "metadata": {
    "collapsed": true
   },
   "outputs": [],
   "source": [
    "using MLDatasets, Images, TestImages\n",
    "\n",
    "train_x, train_y = MNIST.traindata()\n",
    "test_x, test_y = MNIST.testdata();"
   ]
  },
  {
   "cell_type": "markdown",
   "metadata": {},
   "source": [
    "###  I will train and make predictions on digits 1-5 (excluding the rest completely)."
   ]
  },
  {
   "cell_type": "code",
   "execution_count": 14,
   "metadata": {
    "scrolled": true
   },
   "outputs": [
    {
     "data": {
      "text/plain": [
       "sign (generic function with 1 method)"
      ]
     },
     "execution_count": 14,
     "metadata": {},
     "output_type": "execute_result"
    }
   ],
   "source": [
    "# Reduce the dimension of the input data(1-5), one long array for all of our x-inputs\n",
    "X = []\n",
    "Y = []\n",
    "for i = 1:60000\n",
    "    if train_y[i] == 1 || train_y[i] == 2 || train_y[i] ==3 || train_y[i] ==4 || train_y[i] ==5\n",
    "        x = reshape(train_x[:,:,i], 784)\n",
    "        push!(x, 1.0)\n",
    "        push!(X,x)\n",
    "        y_temp = -1*ones(5)\n",
    "        y_temp[train_y[i]] = 1\n",
    "        push!(Y, y_temp)\n",
    "    end\n",
    "end\n",
    "\n",
    "# Simple sign function used later\n",
    "function sign(s)\n",
    "    if s > 0\n",
    "        return 1\n",
    "        else \n",
    "        return -1\n",
    "    end\n",
    "end"
   ]
  },
  {
   "cell_type": "markdown",
   "metadata": {},
   "source": [
    "### Initialize a random set of weights to start."
   ]
  },
  {
   "cell_type": "code",
   "execution_count": 15,
   "metadata": {
    "scrolled": true
   },
   "outputs": [
    {
     "data": {
      "text/plain": [
       "5×785 Array{Float64,2}:\n",
       " 0.480495   0.935261  0.177475  0.599869  …  0.963493  0.335015  0.629104\n",
       " 0.0994688  0.584793  0.983534  0.085847     0.818489  0.653001  0.101931\n",
       " 0.699302   0.410039  0.969632  0.922826     0.14872   0.23508   0.558001\n",
       " 0.695945   0.449334  0.071367  0.793807     0.713409  0.323173  0.278907\n",
       " 0.248596   0.360888  0.523496  0.421807     0.573616  0.238159  0.897724"
      ]
     },
     "execution_count": 15,
     "metadata": {},
     "output_type": "execute_result"
    }
   ],
   "source": [
    "# Weight matrix\n",
    "W = rand(5,785)"
   ]
  },
  {
   "cell_type": "markdown",
   "metadata": {},
   "source": [
    "### Now we need to update our weight vector W if our $\\hat{y}$   does not equal ${y_i}$."
   ]
  },
  {
   "cell_type": "code",
   "execution_count": 16,
   "metadata": {},
   "outputs": [],
   "source": [
    "for i = 1:30094\n",
    "    y_hat = sign.(W*X[i])\n",
    "    for j = 1:5\n",
    "        if y_hat[j] != Y[i][j]\n",
    "            W[j,:] += Y[i][j] * X[i]\n",
    "        end\n",
    "    end\n",
    "end"
   ]
  },
  {
   "cell_type": "markdown",
   "metadata": {},
   "source": [
    "### Calculating our accuracy on our training set. Let's find out if our training and testing accuracies are close."
   ]
  },
  {
   "cell_type": "code",
   "execution_count": 17,
   "metadata": {},
   "outputs": [
    {
     "data": {
      "text/plain": [
       "54.82738448771074"
      ]
     },
     "execution_count": 17,
     "metadata": {},
     "output_type": "execute_result"
    }
   ],
   "source": [
    "using LinearAlgebra\n",
    "error = 0\n",
    "for i = 1:30094 # the size of our new X (digits 1-5)\n",
    "    error += norm(sign.(W*X[i]) - Y[i])\n",
    "end\n",
    "100*(1- (error / (30094))) # this is 1 - our error %"
   ]
  },
  {
   "cell_type": "markdown",
   "metadata": {},
   "source": [
    "### Now to reduce the dimensions of the testing data so we can compare training and testing results."
   ]
  },
  {
   "cell_type": "code",
   "execution_count": 18,
   "metadata": {
    "collapsed": true
   },
   "outputs": [],
   "source": [
    "#Now to run on the testing data\n",
    "# Reduce the dimension of the input data\n",
    "test_X = []\n",
    "test_Y = []\n",
    "for i = 1:10000\n",
    "    if test_y[i] == 1 || test_y[i] == 2 || test_y[i] ==3 || test_y[i] ==4 || test_y[i] ==5\n",
    "        x = push!(copy(reshape(test_x[:,:,i], 784)), 1.0)\n",
    "        #push!(X, reshape(train_x[:,:,i], 784))\n",
    "        push!(test_X,x)\n",
    "        y_temp = -1*ones(5)\n",
    "        y_temp[test_y[i]] = 1\n",
    "        push!(test_Y, y_temp)\n",
    "    end\n",
    "end"
   ]
  },
  {
   "cell_type": "code",
   "execution_count": 19,
   "metadata": {
    "scrolled": true
   },
   "outputs": [
    {
     "data": {
      "text/plain": [
       "92.2265375919307"
      ]
     },
     "execution_count": 19,
     "metadata": {},
     "output_type": "execute_result"
    }
   ],
   "source": [
    "using LinearAlgebra\n",
    "error = 0\n",
    "for i = 1:5051 # size of our test_x\n",
    "    error += norm(sign.(W*test_X[i]) - test_Y[i])\n",
    "end\n",
    "error / 5051\n",
    "100*(1- (error / (30094))) # our 1 - error %"
   ]
  },
  {
   "cell_type": "markdown",
   "metadata": {},
   "source": [
    "### Pretty good accuracy! The pocket algorithm was able to predict this good on 5 digits. Pretty impressive for how simple of a model it is."
   ]
  }
 ],
 "metadata": {
  "kernelspec": {
   "display_name": "Julia 1.0.3",
   "language": "julia",
   "name": "julia-1.0"
  },
  "language_info": {
   "file_extension": ".jl",
   "mimetype": "application/julia",
   "name": "julia",
   "version": "1.0.3"
  }
 },
 "nbformat": 4,
 "nbformat_minor": 2
}
