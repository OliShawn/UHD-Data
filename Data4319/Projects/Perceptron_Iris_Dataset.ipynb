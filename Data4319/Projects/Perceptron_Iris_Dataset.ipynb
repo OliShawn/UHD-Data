{
 "cells": [
  {
   "cell_type": "markdown",
   "metadata": {},
   "source": [
    "# The Classical Perceptron Learning Model \n",
    "### Using the Iris Dataset, which is primarily linearly separable. We should get fairly high prediction power on this dataset.\n",
    "\n"
   ]
  },
  {
   "cell_type": "markdown",
   "metadata": {},
   "source": [
    "![title](perceptron.png)"
   ]
  },
  {
   "cell_type": "markdown",
   "metadata": {},
   "source": [
    "                                  Network view of the classical perceptron"
   ]
  },
  {
   "cell_type": "markdown",
   "metadata": {},
   "source": [
    "![title](iris.jpeg)"
   ]
  },
  {
   "cell_type": "markdown",
   "metadata": {},
   "source": [
    "#### Our model is trying to tell the difference between these three flowers.\n",
    "\n",
    "\n"
   ]
  },
  {
   "cell_type": "code",
   "execution_count": 13,
   "metadata": {
    "scrolled": true
   },
   "outputs": [],
   "source": [
    "using CSV\n",
    "iris = CSV.read(\"iris.csv\")\n",
    "iris = iris[1:100, :]\n",
    "\n",
    "for i = 1 : 100\n",
    "    if iris[i, 5] == \"setosa\"\n",
    "        iris[i,5] = \"1\"\n",
    "    else\n",
    "        iris[i,5] = \"0\"\n",
    "    end\n",
    "end"
   ]
  },
  {
   "cell_type": "markdown",
   "metadata": {},
   "source": [
    "*** We will use the petal length and petal width for our analysis. Hopefully this data will be linearly separable. ***"
   ]
  },
  {
   "cell_type": "code",
   "execution_count": 15,
   "metadata": {},
   "outputs": [
    {
     "data": {
      "text/plain": [
       "100-element Array{Tuple{Float64,Float64,String},1}:\n",
       " (1.4, 0.2, \"1\")\n",
       " (1.4, 0.2, \"1\")\n",
       " (1.3, 0.2, \"1\")\n",
       " (1.5, 0.2, \"1\")\n",
       " (1.4, 0.2, \"1\")\n",
       " (1.7, 0.4, \"1\")\n",
       " (1.4, 0.3, \"1\")\n",
       " (1.5, 0.2, \"1\")\n",
       " (1.4, 0.2, \"1\")\n",
       " (1.5, 0.1, \"1\")\n",
       " (1.5, 0.2, \"1\")\n",
       " (1.6, 0.2, \"1\")\n",
       " (1.4, 0.1, \"1\")\n",
       " ⋮              \n",
       " (4.1, 1.3, \"0\")\n",
       " (4.0, 1.3, \"0\")\n",
       " (4.4, 1.2, \"0\")\n",
       " (4.6, 1.4, \"0\")\n",
       " (4.0, 1.2, \"0\")\n",
       " (3.3, 1.0, \"0\")\n",
       " (4.2, 1.3, \"0\")\n",
       " (4.2, 1.2, \"0\")\n",
       " (4.2, 1.3, \"0\")\n",
       " (4.3, 1.3, \"0\")\n",
       " (3.0, 1.1, \"0\")\n",
       " (4.1, 1.3, \"0\")"
      ]
     },
     "execution_count": 15,
     "metadata": {},
     "output_type": "execute_result"
    }
   ],
   "source": [
    "data = [x for x in zip(iris[3], iris[4], iris[5])]\n",
    "data"
   ]
  },
  {
   "cell_type": "code",
   "execution_count": 16,
   "metadata": {
    "scrolled": true
   },
   "outputs": [
    {
     "data": {
      "image/svg+xml": [
       "<?xml version=\"1.0\" encoding=\"utf-8\"?>\n",
       "<svg xmlns=\"http://www.w3.org/2000/svg\" xmlns:xlink=\"http://www.w3.org/1999/xlink\" width=\"600\" height=\"400\" viewBox=\"0 0 2400 1600\">\n",
       "<defs>\n",
       "  <clipPath id=\"clip9600\">\n",
       "    <rect x=\"0\" y=\"0\" width=\"2000\" height=\"2000\"/>\n",
       "  </clipPath>\n",
       "</defs>\n",
       "<defs>\n",
       "  <clipPath id=\"clip9601\">\n",
       "    <rect x=\"0\" y=\"0\" width=\"2400\" height=\"1600\"/>\n",
       "  </clipPath>\n",
       "</defs>\n",
       "<polygon clip-path=\"url(#clip9601)\" points=\"\n",
       "0,1600 2400,1600 2400,0 0,0 \n",
       "  \" fill=\"#ffffff\" fill-rule=\"evenodd\" fill-opacity=\"1\"/>\n",
       "<defs>\n",
       "  <clipPath id=\"clip9602\">\n",
       "    <rect x=\"480\" y=\"0\" width=\"1681\" height=\"1600\"/>\n",
       "  </clipPath>\n",
       "</defs>\n",
       "<polygon clip-path=\"url(#clip9601)\" points=\"\n",
       "251.149,1440.48 2321.26,1440.48 2321.26,125.984 251.149,125.984 \n",
       "  \" fill=\"#ffffff\" fill-rule=\"evenodd\" fill-opacity=\"1\"/>\n",
       "<defs>\n",
       "  <clipPath id=\"clip9603\">\n",
       "    <rect x=\"251\" y=\"125\" width=\"2071\" height=\"1315\"/>\n",
       "  </clipPath>\n",
       "</defs>\n",
       "<polyline clip-path=\"url(#clip9603)\" style=\"stroke:#000000; stroke-width:2; stroke-opacity:0.1; fill:none\" points=\"\n",
       "  309.737,1440.48 309.737,125.984 \n",
       "  \"/>\n",
       "<polyline clip-path=\"url(#clip9603)\" style=\"stroke:#000000; stroke-width:2; stroke-opacity:0.1; fill:none\" points=\"\n",
       "  786.062,1440.48 786.062,125.984 \n",
       "  \"/>\n",
       "<polyline clip-path=\"url(#clip9603)\" style=\"stroke:#000000; stroke-width:2; stroke-opacity:0.1; fill:none\" points=\"\n",
       "  1262.39,1440.48 1262.39,125.984 \n",
       "  \"/>\n",
       "<polyline clip-path=\"url(#clip9603)\" style=\"stroke:#000000; stroke-width:2; stroke-opacity:0.1; fill:none\" points=\"\n",
       "  1738.71,1440.48 1738.71,125.984 \n",
       "  \"/>\n",
       "<polyline clip-path=\"url(#clip9603)\" style=\"stroke:#000000; stroke-width:2; stroke-opacity:0.1; fill:none\" points=\"\n",
       "  2215.04,1440.48 2215.04,125.984 \n",
       "  \"/>\n",
       "<polyline clip-path=\"url(#clip9603)\" style=\"stroke:#000000; stroke-width:2; stroke-opacity:0.1; fill:none\" points=\"\n",
       "  251.149,1293.86 2321.26,1293.86 \n",
       "  \"/>\n",
       "<polyline clip-path=\"url(#clip9603)\" style=\"stroke:#000000; stroke-width:2; stroke-opacity:0.1; fill:none\" points=\"\n",
       "  251.149,1111.49 2321.26,1111.49 \n",
       "  \"/>\n",
       "<polyline clip-path=\"url(#clip9603)\" style=\"stroke:#000000; stroke-width:2; stroke-opacity:0.1; fill:none\" points=\"\n",
       "  251.149,929.127 2321.26,929.127 \n",
       "  \"/>\n",
       "<polyline clip-path=\"url(#clip9603)\" style=\"stroke:#000000; stroke-width:2; stroke-opacity:0.1; fill:none\" points=\"\n",
       "  251.149,746.76 2321.26,746.76 \n",
       "  \"/>\n",
       "<polyline clip-path=\"url(#clip9603)\" style=\"stroke:#000000; stroke-width:2; stroke-opacity:0.1; fill:none\" points=\"\n",
       "  251.149,564.394 2321.26,564.394 \n",
       "  \"/>\n",
       "<polyline clip-path=\"url(#clip9603)\" style=\"stroke:#000000; stroke-width:2; stroke-opacity:0.1; fill:none\" points=\"\n",
       "  251.149,382.027 2321.26,382.027 \n",
       "  \"/>\n",
       "<polyline clip-path=\"url(#clip9603)\" style=\"stroke:#000000; stroke-width:2; stroke-opacity:0.1; fill:none\" points=\"\n",
       "  251.149,199.66 2321.26,199.66 \n",
       "  \"/>\n",
       "<polyline clip-path=\"url(#clip9601)\" style=\"stroke:#000000; stroke-width:4; stroke-opacity:1; fill:none\" points=\"\n",
       "  251.149,1440.48 2321.26,1440.48 \n",
       "  \"/>\n",
       "<polyline clip-path=\"url(#clip9601)\" style=\"stroke:#000000; stroke-width:4; stroke-opacity:1; fill:none\" points=\"\n",
       "  251.149,1440.48 251.149,125.984 \n",
       "  \"/>\n",
       "<polyline clip-path=\"url(#clip9601)\" style=\"stroke:#000000; stroke-width:4; stroke-opacity:1; fill:none\" points=\"\n",
       "  309.737,1440.48 309.737,1420.77 \n",
       "  \"/>\n",
       "<polyline clip-path=\"url(#clip9601)\" style=\"stroke:#000000; stroke-width:4; stroke-opacity:1; fill:none\" points=\"\n",
       "  786.062,1440.48 786.062,1420.77 \n",
       "  \"/>\n",
       "<polyline clip-path=\"url(#clip9601)\" style=\"stroke:#000000; stroke-width:4; stroke-opacity:1; fill:none\" points=\"\n",
       "  1262.39,1440.48 1262.39,1420.77 \n",
       "  \"/>\n",
       "<polyline clip-path=\"url(#clip9601)\" style=\"stroke:#000000; stroke-width:4; stroke-opacity:1; fill:none\" points=\"\n",
       "  1738.71,1440.48 1738.71,1420.77 \n",
       "  \"/>\n",
       "<polyline clip-path=\"url(#clip9601)\" style=\"stroke:#000000; stroke-width:4; stroke-opacity:1; fill:none\" points=\"\n",
       "  2215.04,1440.48 2215.04,1420.77 \n",
       "  \"/>\n",
       "<polyline clip-path=\"url(#clip9601)\" style=\"stroke:#000000; stroke-width:4; stroke-opacity:1; fill:none\" points=\"\n",
       "  251.149,1293.86 282.2,1293.86 \n",
       "  \"/>\n",
       "<polyline clip-path=\"url(#clip9601)\" style=\"stroke:#000000; stroke-width:4; stroke-opacity:1; fill:none\" points=\"\n",
       "  251.149,1111.49 282.2,1111.49 \n",
       "  \"/>\n",
       "<polyline clip-path=\"url(#clip9601)\" style=\"stroke:#000000; stroke-width:4; stroke-opacity:1; fill:none\" points=\"\n",
       "  251.149,929.127 282.2,929.127 \n",
       "  \"/>\n",
       "<polyline clip-path=\"url(#clip9601)\" style=\"stroke:#000000; stroke-width:4; stroke-opacity:1; fill:none\" points=\"\n",
       "  251.149,746.76 282.2,746.76 \n",
       "  \"/>\n",
       "<polyline clip-path=\"url(#clip9601)\" style=\"stroke:#000000; stroke-width:4; stroke-opacity:1; fill:none\" points=\"\n",
       "  251.149,564.394 282.2,564.394 \n",
       "  \"/>\n",
       "<polyline clip-path=\"url(#clip9601)\" style=\"stroke:#000000; stroke-width:4; stroke-opacity:1; fill:none\" points=\"\n",
       "  251.149,382.027 282.2,382.027 \n",
       "  \"/>\n",
       "<polyline clip-path=\"url(#clip9601)\" style=\"stroke:#000000; stroke-width:4; stroke-opacity:1; fill:none\" points=\"\n",
       "  251.149,199.66 282.2,199.66 \n",
       "  \"/>\n",
       "<g clip-path=\"url(#clip9601)\">\n",
       "<text style=\"fill:#000000; fill-opacity:1; font-family:Arial,Helvetica Neue,Helvetica,sans-serif; font-size:48px; text-anchor:middle;\" transform=\"rotate(0, 309.737, 1494.48)\" x=\"309.737\" y=\"1494.48\">1</text>\n",
       "</g>\n",
       "<g clip-path=\"url(#clip9601)\">\n",
       "<text style=\"fill:#000000; fill-opacity:1; font-family:Arial,Helvetica Neue,Helvetica,sans-serif; font-size:48px; text-anchor:middle;\" transform=\"rotate(0, 786.062, 1494.48)\" x=\"786.062\" y=\"1494.48\">2</text>\n",
       "</g>\n",
       "<g clip-path=\"url(#clip9601)\">\n",
       "<text style=\"fill:#000000; fill-opacity:1; font-family:Arial,Helvetica Neue,Helvetica,sans-serif; font-size:48px; text-anchor:middle;\" transform=\"rotate(0, 1262.39, 1494.48)\" x=\"1262.39\" y=\"1494.48\">3</text>\n",
       "</g>\n",
       "<g clip-path=\"url(#clip9601)\">\n",
       "<text style=\"fill:#000000; fill-opacity:1; font-family:Arial,Helvetica Neue,Helvetica,sans-serif; font-size:48px; text-anchor:middle;\" transform=\"rotate(0, 1738.71, 1494.48)\" x=\"1738.71\" y=\"1494.48\">4</text>\n",
       "</g>\n",
       "<g clip-path=\"url(#clip9601)\">\n",
       "<text style=\"fill:#000000; fill-opacity:1; font-family:Arial,Helvetica Neue,Helvetica,sans-serif; font-size:48px; text-anchor:middle;\" transform=\"rotate(0, 2215.04, 1494.48)\" x=\"2215.04\" y=\"1494.48\">5</text>\n",
       "</g>\n",
       "<g clip-path=\"url(#clip9601)\">\n",
       "<text style=\"fill:#000000; fill-opacity:1; font-family:Arial,Helvetica Neue,Helvetica,sans-serif; font-size:48px; text-anchor:end;\" transform=\"rotate(0, 227.149, 1311.36)\" x=\"227.149\" y=\"1311.36\">0.25</text>\n",
       "</g>\n",
       "<g clip-path=\"url(#clip9601)\">\n",
       "<text style=\"fill:#000000; fill-opacity:1; font-family:Arial,Helvetica Neue,Helvetica,sans-serif; font-size:48px; text-anchor:end;\" transform=\"rotate(0, 227.149, 1128.99)\" x=\"227.149\" y=\"1128.99\">0.50</text>\n",
       "</g>\n",
       "<g clip-path=\"url(#clip9601)\">\n",
       "<text style=\"fill:#000000; fill-opacity:1; font-family:Arial,Helvetica Neue,Helvetica,sans-serif; font-size:48px; text-anchor:end;\" transform=\"rotate(0, 227.149, 946.627)\" x=\"227.149\" y=\"946.627\">0.75</text>\n",
       "</g>\n",
       "<g clip-path=\"url(#clip9601)\">\n",
       "<text style=\"fill:#000000; fill-opacity:1; font-family:Arial,Helvetica Neue,Helvetica,sans-serif; font-size:48px; text-anchor:end;\" transform=\"rotate(0, 227.149, 764.26)\" x=\"227.149\" y=\"764.26\">1.00</text>\n",
       "</g>\n",
       "<g clip-path=\"url(#clip9601)\">\n",
       "<text style=\"fill:#000000; fill-opacity:1; font-family:Arial,Helvetica Neue,Helvetica,sans-serif; font-size:48px; text-anchor:end;\" transform=\"rotate(0, 227.149, 581.894)\" x=\"227.149\" y=\"581.894\">1.25</text>\n",
       "</g>\n",
       "<g clip-path=\"url(#clip9601)\">\n",
       "<text style=\"fill:#000000; fill-opacity:1; font-family:Arial,Helvetica Neue,Helvetica,sans-serif; font-size:48px; text-anchor:end;\" transform=\"rotate(0, 227.149, 399.527)\" x=\"227.149\" y=\"399.527\">1.50</text>\n",
       "</g>\n",
       "<g clip-path=\"url(#clip9601)\">\n",
       "<text style=\"fill:#000000; fill-opacity:1; font-family:Arial,Helvetica Neue,Helvetica,sans-serif; font-size:48px; text-anchor:end;\" transform=\"rotate(0, 227.149, 217.16)\" x=\"227.149\" y=\"217.16\">1.75</text>\n",
       "</g>\n",
       "<g clip-path=\"url(#clip9601)\">\n",
       "<text style=\"fill:#000000; fill-opacity:1; font-family:Arial,Helvetica Neue,Helvetica,sans-serif; font-size:84px; text-anchor:middle;\" transform=\"rotate(0, 1286.2, 73.2)\" x=\"1286.2\" y=\"73.2\">Iris Dataset</text>\n",
       "</g>\n",
       "<g clip-path=\"url(#clip9601)\">\n",
       "<text style=\"fill:#000000; fill-opacity:1; font-family:Arial,Helvetica Neue,Helvetica,sans-serif; font-size:66px; text-anchor:middle;\" transform=\"rotate(0, 1286.2, 1590.4)\" x=\"1286.2\" y=\"1590.4\">Petal length</text>\n",
       "</g>\n",
       "<g clip-path=\"url(#clip9601)\">\n",
       "<text style=\"fill:#000000; fill-opacity:1; font-family:Arial,Helvetica Neue,Helvetica,sans-serif; font-size:66px; text-anchor:middle;\" transform=\"rotate(-90, 57.6, 783.233)\" x=\"57.6\" y=\"783.233\">Petal Width</text>\n",
       "</g>\n",
       "<circle clip-path=\"url(#clip9603)\" style=\"fill:#000000; stroke:none; fill-opacity:1\" cx=\"2072.14\" cy=\"454.974\" r=\"18\"/>\n",
       "<circle clip-path=\"url(#clip9603)\" style=\"fill:#009af9; stroke:none; fill-opacity:1\" cx=\"2072.14\" cy=\"454.974\" r=\"14\"/>\n",
       "<circle clip-path=\"url(#clip9603)\" style=\"fill:#000000; stroke:none; fill-opacity:1\" cx=\"1976.88\" cy=\"382.027\" r=\"18\"/>\n",
       "<circle clip-path=\"url(#clip9603)\" style=\"fill:#009af9; stroke:none; fill-opacity:1\" cx=\"1976.88\" cy=\"382.027\" r=\"14\"/>\n",
       "<circle clip-path=\"url(#clip9603)\" style=\"fill:#000000; stroke:none; fill-opacity:1\" cx=\"2167.41\" cy=\"382.027\" r=\"18\"/>\n",
       "<circle clip-path=\"url(#clip9603)\" style=\"fill:#009af9; stroke:none; fill-opacity:1\" cx=\"2167.41\" cy=\"382.027\" r=\"14\"/>\n",
       "<circle clip-path=\"url(#clip9603)\" style=\"fill:#000000; stroke:none; fill-opacity:1\" cx=\"1738.71\" cy=\"527.92\" r=\"18\"/>\n",
       "<circle clip-path=\"url(#clip9603)\" style=\"fill:#009af9; stroke:none; fill-opacity:1\" cx=\"1738.71\" cy=\"527.92\" r=\"14\"/>\n",
       "<circle clip-path=\"url(#clip9603)\" style=\"fill:#000000; stroke:none; fill-opacity:1\" cx=\"2024.51\" cy=\"382.027\" r=\"18\"/>\n",
       "<circle clip-path=\"url(#clip9603)\" style=\"fill:#009af9; stroke:none; fill-opacity:1\" cx=\"2024.51\" cy=\"382.027\" r=\"14\"/>\n",
       "<circle clip-path=\"url(#clip9603)\" style=\"fill:#000000; stroke:none; fill-opacity:1\" cx=\"1976.88\" cy=\"527.92\" r=\"18\"/>\n",
       "<circle clip-path=\"url(#clip9603)\" style=\"fill:#009af9; stroke:none; fill-opacity:1\" cx=\"1976.88\" cy=\"527.92\" r=\"14\"/>\n",
       "<circle clip-path=\"url(#clip9603)\" style=\"fill:#000000; stroke:none; fill-opacity:1\" cx=\"2072.14\" cy=\"309.08\" r=\"18\"/>\n",
       "<circle clip-path=\"url(#clip9603)\" style=\"fill:#009af9; stroke:none; fill-opacity:1\" cx=\"2072.14\" cy=\"309.08\" r=\"14\"/>\n",
       "<circle clip-path=\"url(#clip9603)\" style=\"fill:#000000; stroke:none; fill-opacity:1\" cx=\"1405.29\" cy=\"746.76\" r=\"18\"/>\n",
       "<circle clip-path=\"url(#clip9603)\" style=\"fill:#009af9; stroke:none; fill-opacity:1\" cx=\"1405.29\" cy=\"746.76\" r=\"14\"/>\n",
       "<circle clip-path=\"url(#clip9603)\" style=\"fill:#000000; stroke:none; fill-opacity:1\" cx=\"2024.51\" cy=\"527.92\" r=\"18\"/>\n",
       "<circle clip-path=\"url(#clip9603)\" style=\"fill:#009af9; stroke:none; fill-opacity:1\" cx=\"2024.51\" cy=\"527.92\" r=\"14\"/>\n",
       "<circle clip-path=\"url(#clip9603)\" style=\"fill:#000000; stroke:none; fill-opacity:1\" cx=\"1691.08\" cy=\"454.974\" r=\"18\"/>\n",
       "<circle clip-path=\"url(#clip9603)\" style=\"fill:#009af9; stroke:none; fill-opacity:1\" cx=\"1691.08\" cy=\"454.974\" r=\"14\"/>\n",
       "<circle clip-path=\"url(#clip9603)\" style=\"fill:#000000; stroke:none; fill-opacity:1\" cx=\"1500.55\" cy=\"746.76\" r=\"18\"/>\n",
       "<circle clip-path=\"url(#clip9603)\" style=\"fill:#009af9; stroke:none; fill-opacity:1\" cx=\"1500.55\" cy=\"746.76\" r=\"14\"/>\n",
       "<circle clip-path=\"url(#clip9603)\" style=\"fill:#000000; stroke:none; fill-opacity:1\" cx=\"1833.98\" cy=\"382.027\" r=\"18\"/>\n",
       "<circle clip-path=\"url(#clip9603)\" style=\"fill:#009af9; stroke:none; fill-opacity:1\" cx=\"1833.98\" cy=\"382.027\" r=\"14\"/>\n",
       "<circle clip-path=\"url(#clip9603)\" style=\"fill:#000000; stroke:none; fill-opacity:1\" cx=\"1738.71\" cy=\"746.76\" r=\"18\"/>\n",
       "<circle clip-path=\"url(#clip9603)\" style=\"fill:#009af9; stroke:none; fill-opacity:1\" cx=\"1738.71\" cy=\"746.76\" r=\"14\"/>\n",
       "<circle clip-path=\"url(#clip9603)\" style=\"fill:#000000; stroke:none; fill-opacity:1\" cx=\"2072.14\" cy=\"454.974\" r=\"18\"/>\n",
       "<circle clip-path=\"url(#clip9603)\" style=\"fill:#009af9; stroke:none; fill-opacity:1\" cx=\"2072.14\" cy=\"454.974\" r=\"14\"/>\n",
       "<circle clip-path=\"url(#clip9603)\" style=\"fill:#000000; stroke:none; fill-opacity:1\" cx=\"1548.18\" cy=\"527.92\" r=\"18\"/>\n",
       "<circle clip-path=\"url(#clip9603)\" style=\"fill:#009af9; stroke:none; fill-opacity:1\" cx=\"1548.18\" cy=\"527.92\" r=\"14\"/>\n",
       "<circle clip-path=\"url(#clip9603)\" style=\"fill:#000000; stroke:none; fill-opacity:1\" cx=\"1929.24\" cy=\"454.974\" r=\"18\"/>\n",
       "<circle clip-path=\"url(#clip9603)\" style=\"fill:#009af9; stroke:none; fill-opacity:1\" cx=\"1929.24\" cy=\"454.974\" r=\"14\"/>\n",
       "<circle clip-path=\"url(#clip9603)\" style=\"fill:#000000; stroke:none; fill-opacity:1\" cx=\"1976.88\" cy=\"382.027\" r=\"18\"/>\n",
       "<circle clip-path=\"url(#clip9603)\" style=\"fill:#009af9; stroke:none; fill-opacity:1\" cx=\"1976.88\" cy=\"382.027\" r=\"14\"/>\n",
       "<circle clip-path=\"url(#clip9603)\" style=\"fill:#000000; stroke:none; fill-opacity:1\" cx=\"1786.35\" cy=\"746.76\" r=\"18\"/>\n",
       "<circle clip-path=\"url(#clip9603)\" style=\"fill:#009af9; stroke:none; fill-opacity:1\" cx=\"1786.35\" cy=\"746.76\" r=\"14\"/>\n",
       "<circle clip-path=\"url(#clip9603)\" style=\"fill:#000000; stroke:none; fill-opacity:1\" cx=\"1976.88\" cy=\"382.027\" r=\"18\"/>\n",
       "<circle clip-path=\"url(#clip9603)\" style=\"fill:#009af9; stroke:none; fill-opacity:1\" cx=\"1976.88\" cy=\"382.027\" r=\"14\"/>\n",
       "<circle clip-path=\"url(#clip9603)\" style=\"fill:#000000; stroke:none; fill-opacity:1\" cx=\"1691.08\" cy=\"673.813\" r=\"18\"/>\n",
       "<circle clip-path=\"url(#clip9603)\" style=\"fill:#009af9; stroke:none; fill-opacity:1\" cx=\"1691.08\" cy=\"673.813\" r=\"14\"/>\n",
       "<circle clip-path=\"url(#clip9603)\" style=\"fill:#000000; stroke:none; fill-opacity:1\" cx=\"2119.77\" cy=\"163.187\" r=\"18\"/>\n",
       "<circle clip-path=\"url(#clip9603)\" style=\"fill:#009af9; stroke:none; fill-opacity:1\" cx=\"2119.77\" cy=\"163.187\" r=\"14\"/>\n",
       "<circle clip-path=\"url(#clip9603)\" style=\"fill:#000000; stroke:none; fill-opacity:1\" cx=\"1738.71\" cy=\"527.92\" r=\"18\"/>\n",
       "<circle clip-path=\"url(#clip9603)\" style=\"fill:#009af9; stroke:none; fill-opacity:1\" cx=\"1738.71\" cy=\"527.92\" r=\"14\"/>\n",
       "<circle clip-path=\"url(#clip9603)\" style=\"fill:#000000; stroke:none; fill-opacity:1\" cx=\"2167.41\" cy=\"382.027\" r=\"18\"/>\n",
       "<circle clip-path=\"url(#clip9603)\" style=\"fill:#009af9; stroke:none; fill-opacity:1\" cx=\"2167.41\" cy=\"382.027\" r=\"14\"/>\n",
       "<circle clip-path=\"url(#clip9603)\" style=\"fill:#000000; stroke:none; fill-opacity:1\" cx=\"2072.14\" cy=\"600.867\" r=\"18\"/>\n",
       "<circle clip-path=\"url(#clip9603)\" style=\"fill:#009af9; stroke:none; fill-opacity:1\" cx=\"2072.14\" cy=\"600.867\" r=\"14\"/>\n",
       "<circle clip-path=\"url(#clip9603)\" style=\"fill:#000000; stroke:none; fill-opacity:1\" cx=\"1881.61\" cy=\"527.92\" r=\"18\"/>\n",
       "<circle clip-path=\"url(#clip9603)\" style=\"fill:#009af9; stroke:none; fill-opacity:1\" cx=\"1881.61\" cy=\"527.92\" r=\"14\"/>\n",
       "<circle clip-path=\"url(#clip9603)\" style=\"fill:#000000; stroke:none; fill-opacity:1\" cx=\"1929.24\" cy=\"454.974\" r=\"18\"/>\n",
       "<circle clip-path=\"url(#clip9603)\" style=\"fill:#009af9; stroke:none; fill-opacity:1\" cx=\"1929.24\" cy=\"454.974\" r=\"14\"/>\n",
       "<circle clip-path=\"url(#clip9603)\" style=\"fill:#000000; stroke:none; fill-opacity:1\" cx=\"2119.77\" cy=\"454.974\" r=\"18\"/>\n",
       "<circle clip-path=\"url(#clip9603)\" style=\"fill:#009af9; stroke:none; fill-opacity:1\" cx=\"2119.77\" cy=\"454.974\" r=\"14\"/>\n",
       "<circle clip-path=\"url(#clip9603)\" style=\"fill:#000000; stroke:none; fill-opacity:1\" cx=\"2215.04\" cy=\"236.134\" r=\"18\"/>\n",
       "<circle clip-path=\"url(#clip9603)\" style=\"fill:#009af9; stroke:none; fill-opacity:1\" cx=\"2215.04\" cy=\"236.134\" r=\"14\"/>\n",
       "<circle clip-path=\"url(#clip9603)\" style=\"fill:#000000; stroke:none; fill-opacity:1\" cx=\"1976.88\" cy=\"382.027\" r=\"18\"/>\n",
       "<circle clip-path=\"url(#clip9603)\" style=\"fill:#009af9; stroke:none; fill-opacity:1\" cx=\"1976.88\" cy=\"382.027\" r=\"14\"/>\n",
       "<circle clip-path=\"url(#clip9603)\" style=\"fill:#000000; stroke:none; fill-opacity:1\" cx=\"1500.55\" cy=\"746.76\" r=\"18\"/>\n",
       "<circle clip-path=\"url(#clip9603)\" style=\"fill:#009af9; stroke:none; fill-opacity:1\" cx=\"1500.55\" cy=\"746.76\" r=\"14\"/>\n",
       "<circle clip-path=\"url(#clip9603)\" style=\"fill:#000000; stroke:none; fill-opacity:1\" cx=\"1643.45\" cy=\"673.813\" r=\"18\"/>\n",
       "<circle clip-path=\"url(#clip9603)\" style=\"fill:#009af9; stroke:none; fill-opacity:1\" cx=\"1643.45\" cy=\"673.813\" r=\"14\"/>\n",
       "<circle clip-path=\"url(#clip9603)\" style=\"fill:#000000; stroke:none; fill-opacity:1\" cx=\"1595.82\" cy=\"746.76\" r=\"18\"/>\n",
       "<circle clip-path=\"url(#clip9603)\" style=\"fill:#009af9; stroke:none; fill-opacity:1\" cx=\"1595.82\" cy=\"746.76\" r=\"14\"/>\n",
       "<circle clip-path=\"url(#clip9603)\" style=\"fill:#000000; stroke:none; fill-opacity:1\" cx=\"1691.08\" cy=\"600.867\" r=\"18\"/>\n",
       "<circle clip-path=\"url(#clip9603)\" style=\"fill:#009af9; stroke:none; fill-opacity:1\" cx=\"1691.08\" cy=\"600.867\" r=\"14\"/>\n",
       "<circle clip-path=\"url(#clip9603)\" style=\"fill:#000000; stroke:none; fill-opacity:1\" cx=\"2262.67\" cy=\"309.08\" r=\"18\"/>\n",
       "<circle clip-path=\"url(#clip9603)\" style=\"fill:#009af9; stroke:none; fill-opacity:1\" cx=\"2262.67\" cy=\"309.08\" r=\"14\"/>\n",
       "<circle clip-path=\"url(#clip9603)\" style=\"fill:#000000; stroke:none; fill-opacity:1\" cx=\"1976.88\" cy=\"382.027\" r=\"18\"/>\n",
       "<circle clip-path=\"url(#clip9603)\" style=\"fill:#009af9; stroke:none; fill-opacity:1\" cx=\"1976.88\" cy=\"382.027\" r=\"14\"/>\n",
       "<circle clip-path=\"url(#clip9603)\" style=\"fill:#000000; stroke:none; fill-opacity:1\" cx=\"1976.88\" cy=\"309.08\" r=\"18\"/>\n",
       "<circle clip-path=\"url(#clip9603)\" style=\"fill:#009af9; stroke:none; fill-opacity:1\" cx=\"1976.88\" cy=\"309.08\" r=\"14\"/>\n",
       "<circle clip-path=\"url(#clip9603)\" style=\"fill:#000000; stroke:none; fill-opacity:1\" cx=\"2072.14\" cy=\"382.027\" r=\"18\"/>\n",
       "<circle clip-path=\"url(#clip9603)\" style=\"fill:#009af9; stroke:none; fill-opacity:1\" cx=\"2072.14\" cy=\"382.027\" r=\"14\"/>\n",
       "<circle clip-path=\"url(#clip9603)\" style=\"fill:#000000; stroke:none; fill-opacity:1\" cx=\"1929.24\" cy=\"527.92\" r=\"18\"/>\n",
       "<circle clip-path=\"url(#clip9603)\" style=\"fill:#009af9; stroke:none; fill-opacity:1\" cx=\"1929.24\" cy=\"527.92\" r=\"14\"/>\n",
       "<circle clip-path=\"url(#clip9603)\" style=\"fill:#000000; stroke:none; fill-opacity:1\" cx=\"1786.35\" cy=\"527.92\" r=\"18\"/>\n",
       "<circle clip-path=\"url(#clip9603)\" style=\"fill:#009af9; stroke:none; fill-opacity:1\" cx=\"1786.35\" cy=\"527.92\" r=\"14\"/>\n",
       "<circle clip-path=\"url(#clip9603)\" style=\"fill:#000000; stroke:none; fill-opacity:1\" cx=\"1738.71\" cy=\"527.92\" r=\"18\"/>\n",
       "<circle clip-path=\"url(#clip9603)\" style=\"fill:#009af9; stroke:none; fill-opacity:1\" cx=\"1738.71\" cy=\"527.92\" r=\"14\"/>\n",
       "<circle clip-path=\"url(#clip9603)\" style=\"fill:#000000; stroke:none; fill-opacity:1\" cx=\"1929.24\" cy=\"600.867\" r=\"18\"/>\n",
       "<circle clip-path=\"url(#clip9603)\" style=\"fill:#009af9; stroke:none; fill-opacity:1\" cx=\"1929.24\" cy=\"600.867\" r=\"14\"/>\n",
       "<circle clip-path=\"url(#clip9603)\" style=\"fill:#000000; stroke:none; fill-opacity:1\" cx=\"2024.51\" cy=\"454.974\" r=\"18\"/>\n",
       "<circle clip-path=\"url(#clip9603)\" style=\"fill:#009af9; stroke:none; fill-opacity:1\" cx=\"2024.51\" cy=\"454.974\" r=\"14\"/>\n",
       "<circle clip-path=\"url(#clip9603)\" style=\"fill:#000000; stroke:none; fill-opacity:1\" cx=\"1738.71\" cy=\"600.867\" r=\"18\"/>\n",
       "<circle clip-path=\"url(#clip9603)\" style=\"fill:#009af9; stroke:none; fill-opacity:1\" cx=\"1738.71\" cy=\"600.867\" r=\"14\"/>\n",
       "<circle clip-path=\"url(#clip9603)\" style=\"fill:#000000; stroke:none; fill-opacity:1\" cx=\"1405.29\" cy=\"746.76\" r=\"18\"/>\n",
       "<circle clip-path=\"url(#clip9603)\" style=\"fill:#009af9; stroke:none; fill-opacity:1\" cx=\"1405.29\" cy=\"746.76\" r=\"14\"/>\n",
       "<circle clip-path=\"url(#clip9603)\" style=\"fill:#000000; stroke:none; fill-opacity:1\" cx=\"1833.98\" cy=\"527.92\" r=\"18\"/>\n",
       "<circle clip-path=\"url(#clip9603)\" style=\"fill:#009af9; stroke:none; fill-opacity:1\" cx=\"1833.98\" cy=\"527.92\" r=\"14\"/>\n",
       "<circle clip-path=\"url(#clip9603)\" style=\"fill:#000000; stroke:none; fill-opacity:1\" cx=\"1833.98\" cy=\"600.867\" r=\"18\"/>\n",
       "<circle clip-path=\"url(#clip9603)\" style=\"fill:#009af9; stroke:none; fill-opacity:1\" cx=\"1833.98\" cy=\"600.867\" r=\"14\"/>\n",
       "<circle clip-path=\"url(#clip9603)\" style=\"fill:#000000; stroke:none; fill-opacity:1\" cx=\"1833.98\" cy=\"527.92\" r=\"18\"/>\n",
       "<circle clip-path=\"url(#clip9603)\" style=\"fill:#009af9; stroke:none; fill-opacity:1\" cx=\"1833.98\" cy=\"527.92\" r=\"14\"/>\n",
       "<circle clip-path=\"url(#clip9603)\" style=\"fill:#000000; stroke:none; fill-opacity:1\" cx=\"1881.61\" cy=\"527.92\" r=\"18\"/>\n",
       "<circle clip-path=\"url(#clip9603)\" style=\"fill:#009af9; stroke:none; fill-opacity:1\" cx=\"1881.61\" cy=\"527.92\" r=\"14\"/>\n",
       "<circle clip-path=\"url(#clip9603)\" style=\"fill:#000000; stroke:none; fill-opacity:1\" cx=\"1262.39\" cy=\"673.813\" r=\"18\"/>\n",
       "<circle clip-path=\"url(#clip9603)\" style=\"fill:#009af9; stroke:none; fill-opacity:1\" cx=\"1262.39\" cy=\"673.813\" r=\"14\"/>\n",
       "<circle clip-path=\"url(#clip9603)\" style=\"fill:#000000; stroke:none; fill-opacity:1\" cx=\"1786.35\" cy=\"527.92\" r=\"18\"/>\n",
       "<circle clip-path=\"url(#clip9603)\" style=\"fill:#009af9; stroke:none; fill-opacity:1\" cx=\"1786.35\" cy=\"527.92\" r=\"14\"/>\n",
       "<circle clip-path=\"url(#clip9603)\" style=\"fill:#000000; stroke:none; fill-opacity:1\" cx=\"500.267\" cy=\"1330.33\" r=\"18\"/>\n",
       "<circle clip-path=\"url(#clip9603)\" style=\"fill:#e26f46; stroke:none; fill-opacity:1\" cx=\"500.267\" cy=\"1330.33\" r=\"14\"/>\n",
       "<circle clip-path=\"url(#clip9603)\" style=\"fill:#000000; stroke:none; fill-opacity:1\" cx=\"500.267\" cy=\"1330.33\" r=\"18\"/>\n",
       "<circle clip-path=\"url(#clip9603)\" style=\"fill:#e26f46; stroke:none; fill-opacity:1\" cx=\"500.267\" cy=\"1330.33\" r=\"14\"/>\n",
       "<circle clip-path=\"url(#clip9603)\" style=\"fill:#000000; stroke:none; fill-opacity:1\" cx=\"452.634\" cy=\"1330.33\" r=\"18\"/>\n",
       "<circle clip-path=\"url(#clip9603)\" style=\"fill:#e26f46; stroke:none; fill-opacity:1\" cx=\"452.634\" cy=\"1330.33\" r=\"14\"/>\n",
       "<circle clip-path=\"url(#clip9603)\" style=\"fill:#000000; stroke:none; fill-opacity:1\" cx=\"547.899\" cy=\"1330.33\" r=\"18\"/>\n",
       "<circle clip-path=\"url(#clip9603)\" style=\"fill:#e26f46; stroke:none; fill-opacity:1\" cx=\"547.899\" cy=\"1330.33\" r=\"14\"/>\n",
       "<circle clip-path=\"url(#clip9603)\" style=\"fill:#000000; stroke:none; fill-opacity:1\" cx=\"500.267\" cy=\"1330.33\" r=\"18\"/>\n",
       "<circle clip-path=\"url(#clip9603)\" style=\"fill:#e26f46; stroke:none; fill-opacity:1\" cx=\"500.267\" cy=\"1330.33\" r=\"14\"/>\n",
       "<circle clip-path=\"url(#clip9603)\" style=\"fill:#000000; stroke:none; fill-opacity:1\" cx=\"643.165\" cy=\"1184.44\" r=\"18\"/>\n",
       "<circle clip-path=\"url(#clip9603)\" style=\"fill:#e26f46; stroke:none; fill-opacity:1\" cx=\"643.165\" cy=\"1184.44\" r=\"14\"/>\n",
       "<circle clip-path=\"url(#clip9603)\" style=\"fill:#000000; stroke:none; fill-opacity:1\" cx=\"500.267\" cy=\"1257.39\" r=\"18\"/>\n",
       "<circle clip-path=\"url(#clip9603)\" style=\"fill:#e26f46; stroke:none; fill-opacity:1\" cx=\"500.267\" cy=\"1257.39\" r=\"14\"/>\n",
       "<circle clip-path=\"url(#clip9603)\" style=\"fill:#000000; stroke:none; fill-opacity:1\" cx=\"547.899\" cy=\"1330.33\" r=\"18\"/>\n",
       "<circle clip-path=\"url(#clip9603)\" style=\"fill:#e26f46; stroke:none; fill-opacity:1\" cx=\"547.899\" cy=\"1330.33\" r=\"14\"/>\n",
       "<circle clip-path=\"url(#clip9603)\" style=\"fill:#000000; stroke:none; fill-opacity:1\" cx=\"500.267\" cy=\"1330.33\" r=\"18\"/>\n",
       "<circle clip-path=\"url(#clip9603)\" style=\"fill:#e26f46; stroke:none; fill-opacity:1\" cx=\"500.267\" cy=\"1330.33\" r=\"14\"/>\n",
       "<circle clip-path=\"url(#clip9603)\" style=\"fill:#000000; stroke:none; fill-opacity:1\" cx=\"547.899\" cy=\"1403.28\" r=\"18\"/>\n",
       "<circle clip-path=\"url(#clip9603)\" style=\"fill:#e26f46; stroke:none; fill-opacity:1\" cx=\"547.899\" cy=\"1403.28\" r=\"14\"/>\n",
       "<circle clip-path=\"url(#clip9603)\" style=\"fill:#000000; stroke:none; fill-opacity:1\" cx=\"547.899\" cy=\"1330.33\" r=\"18\"/>\n",
       "<circle clip-path=\"url(#clip9603)\" style=\"fill:#e26f46; stroke:none; fill-opacity:1\" cx=\"547.899\" cy=\"1330.33\" r=\"14\"/>\n",
       "<circle clip-path=\"url(#clip9603)\" style=\"fill:#000000; stroke:none; fill-opacity:1\" cx=\"595.532\" cy=\"1330.33\" r=\"18\"/>\n",
       "<circle clip-path=\"url(#clip9603)\" style=\"fill:#e26f46; stroke:none; fill-opacity:1\" cx=\"595.532\" cy=\"1330.33\" r=\"14\"/>\n",
       "<circle clip-path=\"url(#clip9603)\" style=\"fill:#000000; stroke:none; fill-opacity:1\" cx=\"500.267\" cy=\"1403.28\" r=\"18\"/>\n",
       "<circle clip-path=\"url(#clip9603)\" style=\"fill:#e26f46; stroke:none; fill-opacity:1\" cx=\"500.267\" cy=\"1403.28\" r=\"14\"/>\n",
       "<circle clip-path=\"url(#clip9603)\" style=\"fill:#000000; stroke:none; fill-opacity:1\" cx=\"357.369\" cy=\"1403.28\" r=\"18\"/>\n",
       "<circle clip-path=\"url(#clip9603)\" style=\"fill:#e26f46; stroke:none; fill-opacity:1\" cx=\"357.369\" cy=\"1403.28\" r=\"14\"/>\n",
       "<circle clip-path=\"url(#clip9603)\" style=\"fill:#000000; stroke:none; fill-opacity:1\" cx=\"405.002\" cy=\"1330.33\" r=\"18\"/>\n",
       "<circle clip-path=\"url(#clip9603)\" style=\"fill:#e26f46; stroke:none; fill-opacity:1\" cx=\"405.002\" cy=\"1330.33\" r=\"14\"/>\n",
       "<circle clip-path=\"url(#clip9603)\" style=\"fill:#000000; stroke:none; fill-opacity:1\" cx=\"547.899\" cy=\"1184.44\" r=\"18\"/>\n",
       "<circle clip-path=\"url(#clip9603)\" style=\"fill:#e26f46; stroke:none; fill-opacity:1\" cx=\"547.899\" cy=\"1184.44\" r=\"14\"/>\n",
       "<circle clip-path=\"url(#clip9603)\" style=\"fill:#000000; stroke:none; fill-opacity:1\" cx=\"452.634\" cy=\"1184.44\" r=\"18\"/>\n",
       "<circle clip-path=\"url(#clip9603)\" style=\"fill:#e26f46; stroke:none; fill-opacity:1\" cx=\"452.634\" cy=\"1184.44\" r=\"14\"/>\n",
       "<circle clip-path=\"url(#clip9603)\" style=\"fill:#000000; stroke:none; fill-opacity:1\" cx=\"500.267\" cy=\"1257.39\" r=\"18\"/>\n",
       "<circle clip-path=\"url(#clip9603)\" style=\"fill:#e26f46; stroke:none; fill-opacity:1\" cx=\"500.267\" cy=\"1257.39\" r=\"14\"/>\n",
       "<circle clip-path=\"url(#clip9603)\" style=\"fill:#000000; stroke:none; fill-opacity:1\" cx=\"643.165\" cy=\"1257.39\" r=\"18\"/>\n",
       "<circle clip-path=\"url(#clip9603)\" style=\"fill:#e26f46; stroke:none; fill-opacity:1\" cx=\"643.165\" cy=\"1257.39\" r=\"14\"/>\n",
       "<circle clip-path=\"url(#clip9603)\" style=\"fill:#000000; stroke:none; fill-opacity:1\" cx=\"547.899\" cy=\"1257.39\" r=\"18\"/>\n",
       "<circle clip-path=\"url(#clip9603)\" style=\"fill:#e26f46; stroke:none; fill-opacity:1\" cx=\"547.899\" cy=\"1257.39\" r=\"14\"/>\n",
       "<circle clip-path=\"url(#clip9603)\" style=\"fill:#000000; stroke:none; fill-opacity:1\" cx=\"643.165\" cy=\"1330.33\" r=\"18\"/>\n",
       "<circle clip-path=\"url(#clip9603)\" style=\"fill:#e26f46; stroke:none; fill-opacity:1\" cx=\"643.165\" cy=\"1330.33\" r=\"14\"/>\n",
       "<circle clip-path=\"url(#clip9603)\" style=\"fill:#000000; stroke:none; fill-opacity:1\" cx=\"547.899\" cy=\"1184.44\" r=\"18\"/>\n",
       "<circle clip-path=\"url(#clip9603)\" style=\"fill:#e26f46; stroke:none; fill-opacity:1\" cx=\"547.899\" cy=\"1184.44\" r=\"14\"/>\n",
       "<circle clip-path=\"url(#clip9603)\" style=\"fill:#000000; stroke:none; fill-opacity:1\" cx=\"309.737\" cy=\"1330.33\" r=\"18\"/>\n",
       "<circle clip-path=\"url(#clip9603)\" style=\"fill:#e26f46; stroke:none; fill-opacity:1\" cx=\"309.737\" cy=\"1330.33\" r=\"14\"/>\n",
       "<circle clip-path=\"url(#clip9603)\" style=\"fill:#000000; stroke:none; fill-opacity:1\" cx=\"643.165\" cy=\"1111.49\" r=\"18\"/>\n",
       "<circle clip-path=\"url(#clip9603)\" style=\"fill:#e26f46; stroke:none; fill-opacity:1\" cx=\"643.165\" cy=\"1111.49\" r=\"14\"/>\n",
       "<circle clip-path=\"url(#clip9603)\" style=\"fill:#000000; stroke:none; fill-opacity:1\" cx=\"738.43\" cy=\"1330.33\" r=\"18\"/>\n",
       "<circle clip-path=\"url(#clip9603)\" style=\"fill:#e26f46; stroke:none; fill-opacity:1\" cx=\"738.43\" cy=\"1330.33\" r=\"14\"/>\n",
       "<circle clip-path=\"url(#clip9603)\" style=\"fill:#000000; stroke:none; fill-opacity:1\" cx=\"595.532\" cy=\"1330.33\" r=\"18\"/>\n",
       "<circle clip-path=\"url(#clip9603)\" style=\"fill:#e26f46; stroke:none; fill-opacity:1\" cx=\"595.532\" cy=\"1330.33\" r=\"14\"/>\n",
       "<circle clip-path=\"url(#clip9603)\" style=\"fill:#000000; stroke:none; fill-opacity:1\" cx=\"595.532\" cy=\"1184.44\" r=\"18\"/>\n",
       "<circle clip-path=\"url(#clip9603)\" style=\"fill:#e26f46; stroke:none; fill-opacity:1\" cx=\"595.532\" cy=\"1184.44\" r=\"14\"/>\n",
       "<circle clip-path=\"url(#clip9603)\" style=\"fill:#000000; stroke:none; fill-opacity:1\" cx=\"547.899\" cy=\"1330.33\" r=\"18\"/>\n",
       "<circle clip-path=\"url(#clip9603)\" style=\"fill:#e26f46; stroke:none; fill-opacity:1\" cx=\"547.899\" cy=\"1330.33\" r=\"14\"/>\n",
       "<circle clip-path=\"url(#clip9603)\" style=\"fill:#000000; stroke:none; fill-opacity:1\" cx=\"500.267\" cy=\"1330.33\" r=\"18\"/>\n",
       "<circle clip-path=\"url(#clip9603)\" style=\"fill:#e26f46; stroke:none; fill-opacity:1\" cx=\"500.267\" cy=\"1330.33\" r=\"14\"/>\n",
       "<circle clip-path=\"url(#clip9603)\" style=\"fill:#000000; stroke:none; fill-opacity:1\" cx=\"595.532\" cy=\"1330.33\" r=\"18\"/>\n",
       "<circle clip-path=\"url(#clip9603)\" style=\"fill:#e26f46; stroke:none; fill-opacity:1\" cx=\"595.532\" cy=\"1330.33\" r=\"14\"/>\n",
       "<circle clip-path=\"url(#clip9603)\" style=\"fill:#000000; stroke:none; fill-opacity:1\" cx=\"595.532\" cy=\"1330.33\" r=\"18\"/>\n",
       "<circle clip-path=\"url(#clip9603)\" style=\"fill:#e26f46; stroke:none; fill-opacity:1\" cx=\"595.532\" cy=\"1330.33\" r=\"14\"/>\n",
       "<circle clip-path=\"url(#clip9603)\" style=\"fill:#000000; stroke:none; fill-opacity:1\" cx=\"547.899\" cy=\"1184.44\" r=\"18\"/>\n",
       "<circle clip-path=\"url(#clip9603)\" style=\"fill:#e26f46; stroke:none; fill-opacity:1\" cx=\"547.899\" cy=\"1184.44\" r=\"14\"/>\n",
       "<circle clip-path=\"url(#clip9603)\" style=\"fill:#000000; stroke:none; fill-opacity:1\" cx=\"547.899\" cy=\"1403.28\" r=\"18\"/>\n",
       "<circle clip-path=\"url(#clip9603)\" style=\"fill:#e26f46; stroke:none; fill-opacity:1\" cx=\"547.899\" cy=\"1403.28\" r=\"14\"/>\n",
       "<circle clip-path=\"url(#clip9603)\" style=\"fill:#000000; stroke:none; fill-opacity:1\" cx=\"500.267\" cy=\"1330.33\" r=\"18\"/>\n",
       "<circle clip-path=\"url(#clip9603)\" style=\"fill:#e26f46; stroke:none; fill-opacity:1\" cx=\"500.267\" cy=\"1330.33\" r=\"14\"/>\n",
       "<circle clip-path=\"url(#clip9603)\" style=\"fill:#000000; stroke:none; fill-opacity:1\" cx=\"547.899\" cy=\"1403.28\" r=\"18\"/>\n",
       "<circle clip-path=\"url(#clip9603)\" style=\"fill:#e26f46; stroke:none; fill-opacity:1\" cx=\"547.899\" cy=\"1403.28\" r=\"14\"/>\n",
       "<circle clip-path=\"url(#clip9603)\" style=\"fill:#000000; stroke:none; fill-opacity:1\" cx=\"405.002\" cy=\"1330.33\" r=\"18\"/>\n",
       "<circle clip-path=\"url(#clip9603)\" style=\"fill:#e26f46; stroke:none; fill-opacity:1\" cx=\"405.002\" cy=\"1330.33\" r=\"14\"/>\n",
       "<circle clip-path=\"url(#clip9603)\" style=\"fill:#000000; stroke:none; fill-opacity:1\" cx=\"452.634\" cy=\"1330.33\" r=\"18\"/>\n",
       "<circle clip-path=\"url(#clip9603)\" style=\"fill:#e26f46; stroke:none; fill-opacity:1\" cx=\"452.634\" cy=\"1330.33\" r=\"14\"/>\n",
       "<circle clip-path=\"url(#clip9603)\" style=\"fill:#000000; stroke:none; fill-opacity:1\" cx=\"547.899\" cy=\"1403.28\" r=\"18\"/>\n",
       "<circle clip-path=\"url(#clip9603)\" style=\"fill:#e26f46; stroke:none; fill-opacity:1\" cx=\"547.899\" cy=\"1403.28\" r=\"14\"/>\n",
       "<circle clip-path=\"url(#clip9603)\" style=\"fill:#000000; stroke:none; fill-opacity:1\" cx=\"452.634\" cy=\"1330.33\" r=\"18\"/>\n",
       "<circle clip-path=\"url(#clip9603)\" style=\"fill:#e26f46; stroke:none; fill-opacity:1\" cx=\"452.634\" cy=\"1330.33\" r=\"14\"/>\n",
       "<circle clip-path=\"url(#clip9603)\" style=\"fill:#000000; stroke:none; fill-opacity:1\" cx=\"547.899\" cy=\"1330.33\" r=\"18\"/>\n",
       "<circle clip-path=\"url(#clip9603)\" style=\"fill:#e26f46; stroke:none; fill-opacity:1\" cx=\"547.899\" cy=\"1330.33\" r=\"14\"/>\n",
       "<circle clip-path=\"url(#clip9603)\" style=\"fill:#000000; stroke:none; fill-opacity:1\" cx=\"452.634\" cy=\"1257.39\" r=\"18\"/>\n",
       "<circle clip-path=\"url(#clip9603)\" style=\"fill:#e26f46; stroke:none; fill-opacity:1\" cx=\"452.634\" cy=\"1257.39\" r=\"14\"/>\n",
       "<circle clip-path=\"url(#clip9603)\" style=\"fill:#000000; stroke:none; fill-opacity:1\" cx=\"452.634\" cy=\"1257.39\" r=\"18\"/>\n",
       "<circle clip-path=\"url(#clip9603)\" style=\"fill:#e26f46; stroke:none; fill-opacity:1\" cx=\"452.634\" cy=\"1257.39\" r=\"14\"/>\n",
       "<circle clip-path=\"url(#clip9603)\" style=\"fill:#000000; stroke:none; fill-opacity:1\" cx=\"452.634\" cy=\"1330.33\" r=\"18\"/>\n",
       "<circle clip-path=\"url(#clip9603)\" style=\"fill:#e26f46; stroke:none; fill-opacity:1\" cx=\"452.634\" cy=\"1330.33\" r=\"14\"/>\n",
       "<circle clip-path=\"url(#clip9603)\" style=\"fill:#000000; stroke:none; fill-opacity:1\" cx=\"595.532\" cy=\"1038.55\" r=\"18\"/>\n",
       "<circle clip-path=\"url(#clip9603)\" style=\"fill:#e26f46; stroke:none; fill-opacity:1\" cx=\"595.532\" cy=\"1038.55\" r=\"14\"/>\n",
       "<circle clip-path=\"url(#clip9603)\" style=\"fill:#000000; stroke:none; fill-opacity:1\" cx=\"738.43\" cy=\"1184.44\" r=\"18\"/>\n",
       "<circle clip-path=\"url(#clip9603)\" style=\"fill:#e26f46; stroke:none; fill-opacity:1\" cx=\"738.43\" cy=\"1184.44\" r=\"14\"/>\n",
       "<circle clip-path=\"url(#clip9603)\" style=\"fill:#000000; stroke:none; fill-opacity:1\" cx=\"500.267\" cy=\"1257.39\" r=\"18\"/>\n",
       "<circle clip-path=\"url(#clip9603)\" style=\"fill:#e26f46; stroke:none; fill-opacity:1\" cx=\"500.267\" cy=\"1257.39\" r=\"14\"/>\n",
       "<circle clip-path=\"url(#clip9603)\" style=\"fill:#000000; stroke:none; fill-opacity:1\" cx=\"595.532\" cy=\"1330.33\" r=\"18\"/>\n",
       "<circle clip-path=\"url(#clip9603)\" style=\"fill:#e26f46; stroke:none; fill-opacity:1\" cx=\"595.532\" cy=\"1330.33\" r=\"14\"/>\n",
       "<circle clip-path=\"url(#clip9603)\" style=\"fill:#000000; stroke:none; fill-opacity:1\" cx=\"500.267\" cy=\"1330.33\" r=\"18\"/>\n",
       "<circle clip-path=\"url(#clip9603)\" style=\"fill:#e26f46; stroke:none; fill-opacity:1\" cx=\"500.267\" cy=\"1330.33\" r=\"14\"/>\n",
       "<circle clip-path=\"url(#clip9603)\" style=\"fill:#000000; stroke:none; fill-opacity:1\" cx=\"547.899\" cy=\"1330.33\" r=\"18\"/>\n",
       "<circle clip-path=\"url(#clip9603)\" style=\"fill:#e26f46; stroke:none; fill-opacity:1\" cx=\"547.899\" cy=\"1330.33\" r=\"14\"/>\n",
       "<circle clip-path=\"url(#clip9603)\" style=\"fill:#000000; stroke:none; fill-opacity:1\" cx=\"500.267\" cy=\"1330.33\" r=\"18\"/>\n",
       "<circle clip-path=\"url(#clip9603)\" style=\"fill:#e26f46; stroke:none; fill-opacity:1\" cx=\"500.267\" cy=\"1330.33\" r=\"14\"/>\n",
       "<polygon clip-path=\"url(#clip9601)\" points=\"\n",
       "1803.34,390.944 2249.26,390.944 2249.26,209.504 1803.34,209.504 \n",
       "  \" fill=\"#ffffff\" fill-rule=\"evenodd\" fill-opacity=\"1\"/>\n",
       "<polyline clip-path=\"url(#clip9601)\" style=\"stroke:#000000; stroke-width:4; stroke-opacity:1; fill:none\" points=\"\n",
       "  1803.34,390.944 2249.26,390.944 2249.26,209.504 1803.34,209.504 1803.34,390.944 \n",
       "  \"/>\n",
       "<circle clip-path=\"url(#clip9601)\" style=\"fill:#000000; stroke:none; fill-opacity:1\" cx=\"1911.34\" cy=\"269.984\" r=\"25\"/>\n",
       "<circle clip-path=\"url(#clip9601)\" style=\"fill:#009af9; stroke:none; fill-opacity:1\" cx=\"1911.34\" cy=\"269.984\" r=\"21\"/>\n",
       "<g clip-path=\"url(#clip9601)\">\n",
       "<text style=\"fill:#000000; fill-opacity:1; font-family:Arial,Helvetica Neue,Helvetica,sans-serif; font-size:48px; text-anchor:start;\" transform=\"rotate(0, 1995.34, 287.484)\" x=\"1995.34\" y=\"287.484\">setosa</text>\n",
       "</g>\n",
       "<circle clip-path=\"url(#clip9601)\" style=\"fill:#000000; stroke:none; fill-opacity:1\" cx=\"1911.34\" cy=\"330.464\" r=\"25\"/>\n",
       "<circle clip-path=\"url(#clip9601)\" style=\"fill:#e26f46; stroke:none; fill-opacity:1\" cx=\"1911.34\" cy=\"330.464\" r=\"21\"/>\n",
       "<g clip-path=\"url(#clip9601)\">\n",
       "<text style=\"fill:#000000; fill-opacity:1; font-family:Arial,Helvetica Neue,Helvetica,sans-serif; font-size:48px; text-anchor:start;\" transform=\"rotate(0, 1995.34, 347.964)\" x=\"1995.34\" y=\"347.964\">versicolor</text>\n",
       "</g>\n",
       "</svg>\n"
      ]
     },
     "execution_count": 16,
     "metadata": {},
     "output_type": "execute_result"
    }
   ],
   "source": [
    "using Plots\n",
    "scatter([x[1:2] for x in data if x[3] == \"0\"], label = \"setosa\")\n",
    "scatter!([x[1:2] for x in data if x[3] != \"0\"], label = \"versicolor\")\n",
    "plot!(title = \"Iris Dataset\", xlabel = \"Petal length\", ylabel = \"Petal Width\")"
   ]
  },
  {
   "cell_type": "markdown",
   "metadata": {},
   "source": [
    "## This looks great for our perceptron model. VERY separate data. It should be a piece of cake to differentiate between classes."
   ]
  },
  {
   "cell_type": "code",
   "execution_count": 17,
   "metadata": {
    "collapsed": true
   },
   "outputs": [],
   "source": [
    "# This code assigns x1 and x2 to tuples of their values, and assigns the x3 value to a vector of the outcomes (1 or -1).\n",
    "X, Y = [[x[1], x[2]] for x in data], [x[3] == 1 ? 1 : -1 for x in data];"
   ]
  },
  {
   "cell_type": "code",
   "execution_count": 18,
   "metadata": {},
   "outputs": [
    {
     "data": {
      "text/plain": [
       "h (generic function with 1 method)"
      ]
     },
     "execution_count": 18,
     "metadata": {},
     "output_type": "execute_result"
    }
   ],
   "source": [
    "# Assign random weights\n",
    "w = rand(3)\n",
    "\n",
    "# Perceptron Hypothesis Function definition\n",
    "function h(w, x)\n",
    "    x_new = [1.0, x[1], x[2]]\n",
    "    return w'x_new > 0 ? 1 : -1\n",
    "end"
   ]
  },
  {
   "cell_type": "code",
   "execution_count": 19,
   "metadata": {},
   "outputs": [
    {
     "data": {
      "text/plain": [
       "PLA (generic function with 1 method)"
      ]
     },
     "execution_count": 19,
     "metadata": {},
     "output_type": "execute_result"
    }
   ],
   "source": [
    "# Perceptron Learning Algorithm definition\n",
    "function PLA(w, x, y)\n",
    "    if h(w, x) != y\n",
    "        w += y*[1.0, x[1], x[2]]\n",
    "    end\n",
    "    return w\n",
    "end"
   ]
  },
  {
   "cell_type": "code",
   "execution_count": 20,
   "metadata": {
    "collapsed": true
   },
   "outputs": [],
   "source": [
    "# Iterate the PLA \n",
    "for i = 1:3000\n",
    "    # Choose random entries to update (if possible )\n",
    "    j = rand(1:100)\n",
    "    w = PLA(w, X[j], Y[j])\n",
    "end"
   ]
  },
  {
   "cell_type": "code",
   "execution_count": 34,
   "metadata": {},
   "outputs": [
    {
     "data": {
      "text/plain": [
       "predictor (generic function with 1 method)"
      ]
     },
     "execution_count": 34,
     "metadata": {},
     "output_type": "execute_result"
    }
   ],
   "source": [
    "# Create a user friendly function that predicts the species of a given flower\n",
    "function predictor(n)\n",
    "    return h(w, X[n]) == 0 ? \"Versicolor\" : \"Setosa\"\n",
    "end"
   ]
  },
  {
   "cell_type": "markdown",
   "metadata": {},
   "source": [
    "## Time to test our model! (1 = Setosa, 0 = Versicolor)"
   ]
  },
  {
   "cell_type": "code",
   "execution_count": 35,
   "metadata": {
    "scrolled": true
   },
   "outputs": [
    {
     "data": {
      "text/plain": [
       "\"Setosa\""
      ]
     },
     "execution_count": 35,
     "metadata": {},
     "output_type": "execute_result"
    }
   ],
   "source": [
    "# Test your predictions!\n",
    "predictor(50)"
   ]
  },
  {
   "cell_type": "code",
   "execution_count": 36,
   "metadata": {},
   "outputs": [
    {
     "data": {
      "text/plain": [
       "\"1\""
      ]
     },
     "execution_count": 36,
     "metadata": {},
     "output_type": "execute_result"
    }
   ],
   "source": [
    "iris[50,5] "
   ]
  },
  {
   "cell_type": "code",
   "execution_count": 37,
   "metadata": {},
   "outputs": [
    {
     "data": {
      "text/plain": [
       "\"Setosa\""
      ]
     },
     "execution_count": 37,
     "metadata": {},
     "output_type": "execute_result"
    }
   ],
   "source": [
    "predictor(100)"
   ]
  },
  {
   "cell_type": "code",
   "execution_count": 38,
   "metadata": {},
   "outputs": [
    {
     "data": {
      "text/plain": [
       "\"0\""
      ]
     },
     "execution_count": 38,
     "metadata": {},
     "output_type": "execute_result"
    }
   ],
   "source": [
    "iris[100,5]"
   ]
  },
  {
   "cell_type": "code",
   "execution_count": 39,
   "metadata": {},
   "outputs": [
    {
     "data": {
      "text/plain": [
       "\"Setosa\""
      ]
     },
     "execution_count": 39,
     "metadata": {},
     "output_type": "execute_result"
    }
   ],
   "source": [
    "predictor(1)"
   ]
  },
  {
   "cell_type": "code",
   "execution_count": 40,
   "metadata": {},
   "outputs": [
    {
     "data": {
      "text/plain": [
       "\"1\""
      ]
     },
     "execution_count": 40,
     "metadata": {},
     "output_type": "execute_result"
    }
   ],
   "source": [
    "iris[1,5]"
   ]
  },
  {
   "cell_type": "code",
   "execution_count": null,
   "metadata": {
    "collapsed": true
   },
   "outputs": [],
   "source": []
  }
 ],
 "metadata": {
  "kernelspec": {
   "display_name": "Julia 1.0.3",
   "language": "julia",
   "name": "julia-1.0"
  },
  "language_info": {
   "file_extension": ".jl",
   "mimetype": "application/julia",
   "name": "julia",
   "version": "1.0.3"
  }
 },
 "nbformat": 4,
 "nbformat_minor": 2
}
